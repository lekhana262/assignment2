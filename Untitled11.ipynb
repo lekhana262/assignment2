{
  "nbformat": 4,
  "nbformat_minor": 0,
  "metadata": {
    "colab": {
      "name": "Untitled11.ipynb",
      "provenance": [],
      "collapsed_sections": [],
      "authorship_tag": "ABX9TyNXSg6I3vfqhCpDA0+XCpSu",
      "include_colab_link": true
    },
    "kernelspec": {
      "name": "python3",
      "display_name": "Python 3"
    }
  },
  "cells": [
    {
      "cell_type": "markdown",
      "metadata": {
        "id": "view-in-github",
        "colab_type": "text"
      },
      "source": [
        "<a href=\"https://colab.research.google.com/github/lekhana262/assignment2/blob/master/Untitled11.ipynb\" target=\"_parent\"><img src=\"https://colab.research.google.com/assets/colab-badge.svg\" alt=\"Open In Colab\"/></a>"
      ]
    },
    {
      "cell_type": "code",
      "metadata": {
        "id": "l4wLi6FytMJy",
        "colab_type": "code",
        "colab": {
          "base_uri": "https://localhost:8080/",
          "height": 50
        },
        "outputId": "2dedc0b9-8bc3-419a-ae01-7fbf9b6ad71e"
      },
      "source": [
        "#person is eligible for voting or not using if-else\n",
        "age=int(input(\"enter age\"))\n",
        "if age>=18:\n",
        "   status=\"eligible\"\n",
        "else:\n",
        "    status=\"not eligible\"\n",
        "print(\"you are\",status,\"for vote.\")       "
      ],
      "execution_count": null,
      "outputs": [
        {
          "output_type": "stream",
          "text": [
            "enter age22\n",
            "you are eligible for vote.\n"
          ],
          "name": "stdout"
        }
      ]
    },
    {
      "cell_type": "code",
      "metadata": {
        "id": "AtfIFFw3uqNa",
        "colab_type": "code",
        "colab": {
          "base_uri": "https://localhost:8080/",
          "height": 50
        },
        "outputId": "679c7b10-175c-40da-c97c-5092253e9514"
      },
      "source": [
        "#check whether a number is even or odd using if-else\n",
        "num=int(input(\"enter a number:\"))\n",
        "if(num%2)==0:\n",
        "  print(\"{0} is even\".format(num))\n",
        "else:\n",
        "    print(\"{0} is odd\".format(num))\n"
      ],
      "execution_count": null,
      "outputs": [
        {
          "output_type": "stream",
          "text": [
            "enter a number:56\n",
            "56 is even\n"
          ],
          "name": "stdout"
        }
      ]
    },
    {
      "cell_type": "code",
      "metadata": {
        "id": "sWZDu7KAwC_U",
        "colab_type": "code",
        "colab": {
          "base_uri": "https://localhost:8080/",
          "height": 218
        },
        "outputId": "95ca1887-8a32-41f4-fe4e-7276035cb2dc"
      },
      "source": [
        "#check whether a given number is prime or not\n",
        "number=int(input(\"enter any number:\"))\n",
        "if number>1:\n",
        "   for i in range(2,number):\n",
        "     if(number%i)==0:\n",
        "         print(number,\"is not a prime number\")\n",
        "         break\n",
        "     else:\n",
        "      print(number,\"is a prime number\")\n",
        "else:\n",
        "      print(number,\"is not a prime number\")               \n",
        "\n"
      ],
      "execution_count": null,
      "outputs": [
        {
          "output_type": "stream",
          "text": [
            "enter any number:13\n",
            "13 is a prime number\n",
            "13 is a prime number\n",
            "13 is a prime number\n",
            "13 is a prime number\n",
            "13 is a prime number\n",
            "13 is a prime number\n",
            "13 is a prime number\n",
            "13 is a prime number\n",
            "13 is a prime number\n",
            "13 is a prime number\n",
            "13 is a prime number\n"
          ],
          "name": "stdout"
        }
      ]
    },
    {
      "cell_type": "code",
      "metadata": {
        "id": "YR_Jmcdh2Pe6",
        "colab_type": "code",
        "colab": {
          "base_uri": "https://localhost:8080/",
          "height": 50
        },
        "outputId": "4b04a04d-6d74-4cb2-b920-3744818a65dd"
      },
      "source": [
        "#check whether a number is positive or not using if-else\n",
        "n=int(input(\"enter number:\"))\n",
        "if(n>0):\n",
        "    print(\"number is positive\")\n",
        "else :\n",
        "    print(\"number is negative\")\n",
        "    \n"
      ],
      "execution_count": null,
      "outputs": [
        {
          "output_type": "stream",
          "text": [
            "enter number:-30\n",
            "number is negative\n"
          ],
          "name": "stdout"
        }
      ]
    },
    {
      "cell_type": "code",
      "metadata": {
        "id": "9f9zZRCr7eUc",
        "colab_type": "code",
        "colab": {
          "base_uri": "https://localhost:8080/",
          "height": 50
        },
        "outputId": "17ad872e-f41d-4cd8-b393-190d1b5cf2d9"
      },
      "source": [
        "#phython program to check character is vowel or consonant\n",
        "ch=input(\"enter a character:\")\n",
        "if(ch=='a' or ch=='e' or ch=='i' or ch=='o' or ch=='u' or ch=='A' or ch=='E' or ch=='I' or ch=='O' or ch=='U'):\n",
        "   print(\"the given character\",ch,\"is a vowel\")\n",
        "else:\n",
        "   print(\"the given character\",ch,\"is a consonant\")  \n"
      ],
      "execution_count": null,
      "outputs": [
        {
          "output_type": "stream",
          "text": [
            "enter a character:A\n",
            "the given character A is a vowel\n"
          ],
          "name": "stdout"
        }
      ]
    },
    {
      "cell_type": "code",
      "metadata": {
        "id": "5kvHasV1-RXm",
        "colab_type": "code",
        "colab": {
          "base_uri": "https://localhost:8080/",
          "height": 50
        },
        "outputId": "1833eca8-8b05-40b4-fad5-f04020eda0f2"
      },
      "source": [
        "#python program to check whether a number is positive or negative or zero\n",
        "num=float(input(\"enter a number\"))\n",
        "if num>0:\n",
        "   print(\"positive number\")\n",
        "elif num == 0:\n",
        "   print(\"zero\")\n",
        "else:\n",
        "   print(\"negative number\")    "
      ],
      "execution_count": null,
      "outputs": [
        {
          "output_type": "stream",
          "text": [
            "enter a number0\n",
            "zero\n"
          ],
          "name": "stdout"
        }
      ]
    },
    {
      "cell_type": "code",
      "metadata": {
        "id": "S6A8BwSkHSo4",
        "colab_type": "code",
        "colab": {
          "base_uri": "https://localhost:8080/",
          "height": 84
        },
        "outputId": "76868f8a-6631-4fbc-ba31-d349e0ae5a14"
      },
      "source": [
        "#python program to find roots of a quadratic equation\n",
        "import math\n",
        "a=int(input(\"enter a value of a q.e:\"))\n",
        "b=int(input(\"enter b value of a q.e:\"))\n",
        "c=int(input(\"enter c value of a q.e:\"))\n",
        "discriminant=(b*b)-(4*a*c)\n",
        "if(discriminant>0):\n",
        "  root1=(-b+math.sqrt(discriminant)/(2*a))\n",
        "  root2=(-b-math.sqrt(discriminant)/(2*a))\n",
        "  print(\"two distinct real roots exists:root1=%.2f and root2=%.2f\" %(root1,root2))\n",
        "elif(discriminant==0):\n",
        "  root1=root2=-b/(2*a)\n",
        "  print(\"two equal and real roots exists:root1=%.2f and root2=%.2f\" %(root1,root2))\n",
        "elif(discriminant<0):\n",
        "  root1=root2=-b/(2*a)\n",
        "  imaginary=math.sqrt(-discriminant)/2*a\n",
        "  print(\"two distinct complex roots exists:root1=%.2f+%.2f and root2=%.2f-%.2f\"%(root1,imaginary,root2,imaginary))\n",
        "  "
      ],
      "execution_count": null,
      "outputs": [
        {
          "output_type": "stream",
          "text": [
            "enter a value of a q.e:25\n",
            "enter b value of a q.e:30\n",
            "enter c value of a q.e:-15\n",
            "two distinct real roots exists:root1=-29.02 and root2=-30.98\n"
          ],
          "name": "stdout"
        }
      ]
    },
    {
      "cell_type": "code",
      "metadata": {
        "id": "TBF76UbAaTNI",
        "colab_type": "code",
        "colab": {
          "base_uri": "https://localhost:8080/",
          "height": 50
        },
        "outputId": "3731599f-05c7-4cee-c12d-bb6f50378b5a"
      },
      "source": [
        "#accept a number from 1 to 5 and print them in words\n",
        "n=int(input(\"enter any digit\"))\n",
        "if n==1:\n",
        "  print('one')\n",
        "elif n==2:\n",
        "  print('two')\n",
        "elif n==3:\n",
        "  print('three')\n",
        "elif n==4:\n",
        "  print('four')\n",
        "elif n==5:\n",
        "  print('five')\n",
        "else:\n",
        "  print(\"enter a digit form 1 to 5\")"
      ],
      "execution_count": null,
      "outputs": [
        {
          "output_type": "stream",
          "text": [
            "enter any digit2\n",
            "two\n"
          ],
          "name": "stdout"
        }
      ]
    }
  ]
}